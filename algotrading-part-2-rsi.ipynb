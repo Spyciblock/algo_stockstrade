{
 "cells": [
  {
   "cell_type": "markdown",
   "metadata": {
    "papermill": {
     "duration": 0.011832,
     "end_time": "2021-01-11T05:08:28.889626",
     "exception": false,
     "start_time": "2021-01-11T05:08:28.877794",
     "status": "completed"
    },
    "tags": []
   },
   "source": [
    "### Relative Strength Index (RSI)\n",
    "The relative strength index (RSI) is a momentum indicator used in technical analysis that measures the magnitude of recent price changes to find overbought or oversold scenarios in stock, currency or commodity prices. The RSI is an oscillator (a line chart that moves between two extremes) and can have a value between 0 and 100. The indicator was originally introduced in the seminal 1978 book, \"New Concepts in Technical Trading Systems\" written by J. Welles Wilder Jr.\n",
    "\n",
    "Traditional interpretation of the RSI is that values of 70 or above indicate that a security is becoming overvalued or overbought and may be due for a trend reversal or correction in price. An RSI value of 30 or below indicates an undervalued or oversold scenario."
   ]
  },
  {
   "cell_type": "markdown",
   "metadata": {
    "papermill": {
     "duration": 0.008391,
     "end_time": "2021-01-11T05:08:28.906786",
     "exception": false,
     "start_time": "2021-01-11T05:08:28.898395",
     "status": "completed"
    },
    "tags": []
   },
   "source": [
    "See: [Bollinger Bands Notebook](https://www.kaggle.com/ankitmalik/algotrading-part-1-bollinger-bands)"
   ]
  },
  {
   "cell_type": "code",
   "execution_count": 1,
   "metadata": {
    "execution": {
     "iopub.execute_input": "2021-01-11T05:08:28.929810Z",
     "iopub.status.busy": "2021-01-11T05:08:28.929090Z",
     "iopub.status.idle": "2021-01-11T05:09:01.761415Z",
     "shell.execute_reply": "2021-01-11T05:09:01.760671Z"
    },
    "papermill": {
     "duration": 32.846072,
     "end_time": "2021-01-11T05:09:01.761554",
     "exception": false,
     "start_time": "2021-01-11T05:08:28.915482",
     "status": "completed"
    },
    "tags": []
   },
   "outputs": [
    {
     "name": "stdout",
     "output_type": "stream",
     "text": [
      "Collecting yfinance\r\n",
      "  Downloading yfinance-0.1.55.tar.gz (23 kB)\r\n",
      "Requirement already satisfied: pandas>=0.24 in /opt/conda/lib/python3.7/site-packages (from yfinance) (1.1.5)\r\n",
      "Requirement already satisfied: numpy>=1.15 in /opt/conda/lib/python3.7/site-packages (from yfinance) (1.18.5)\r\n",
      "Requirement already satisfied: requests>=2.20 in /opt/conda/lib/python3.7/site-packages (from yfinance) (2.23.0)\r\n",
      "Collecting lxml>=4.5.1\r\n",
      "  Downloading lxml-4.6.2-cp37-cp37m-manylinux1_x86_64.whl (5.5 MB)\r\n",
      "\u001b[K     |████████████████████████████████| 5.5 MB 2.7 MB/s \r\n",
      "\u001b[?25hCollecting multitasking>=0.0.7\r\n",
      "  Downloading multitasking-0.0.9.tar.gz (8.1 kB)\r\n",
      "Requirement already satisfied: python-dateutil>=2.7.3 in /opt/conda/lib/python3.7/site-packages (from pandas>=0.24->yfinance) (2.8.1)\r\n",
      "Requirement already satisfied: numpy>=1.15 in /opt/conda/lib/python3.7/site-packages (from yfinance) (1.18.5)\r\n",
      "Requirement already satisfied: pytz>=2017.2 in /opt/conda/lib/python3.7/site-packages (from pandas>=0.24->yfinance) (2019.3)\r\n",
      "Requirement already satisfied: six>=1.5 in /opt/conda/lib/python3.7/site-packages (from python-dateutil>=2.7.3->pandas>=0.24->yfinance) (1.14.0)\r\n",
      "Requirement already satisfied: chardet<4,>=3.0.2 in /opt/conda/lib/python3.7/site-packages (from requests>=2.20->yfinance) (3.0.4)\r\n",
      "Requirement already satisfied: certifi>=2017.4.17 in /opt/conda/lib/python3.7/site-packages (from requests>=2.20->yfinance) (2020.12.5)\r\n",
      "Requirement already satisfied: idna<3,>=2.5 in /opt/conda/lib/python3.7/site-packages (from requests>=2.20->yfinance) (2.9)\r\n",
      "Requirement already satisfied: urllib3!=1.25.0,!=1.25.1,<1.26,>=1.21.1 in /opt/conda/lib/python3.7/site-packages (from requests>=2.20->yfinance) (1.25.9)\r\n",
      "Building wheels for collected packages: yfinance, multitasking\r\n",
      "  Building wheel for yfinance (setup.py) ... \u001b[?25l-\b \b\\\b \bdone\r\n",
      "\u001b[?25h  Created wheel for yfinance: filename=yfinance-0.1.55-py2.py3-none-any.whl size=22616 sha256=567a7669c95967283700733ade0838ce88a46313efc01d0fa9005e592bfb2530\r\n",
      "  Stored in directory: /root/.cache/pip/wheels/aa/8a/36/59ed4f6fbcb6100967618eeb0696046bf9777a41ac2ff1f9b9\r\n",
      "  Building wheel for multitasking (setup.py) ... \u001b[?25l-\b \b\\\b \bdone\r\n",
      "\u001b[?25h  Created wheel for multitasking: filename=multitasking-0.0.9-py3-none-any.whl size=8366 sha256=6a8928f3ca8208dd65a8bddf304842756465c0ce62b0658489d82845469f5827\r\n",
      "  Stored in directory: /root/.cache/pip/wheels/ae/25/47/4d68431a7ec1b6c4b5233365934b74c1d4e665bf5f968d363a\r\n",
      "Successfully built yfinance multitasking\r\n",
      "Installing collected packages: multitasking, lxml, yfinance\r\n",
      "  Attempting uninstall: lxml\r\n",
      "    Found existing installation: lxml 4.5.0\r\n",
      "    Uninstalling lxml-4.5.0:\r\n",
      "      Successfully uninstalled lxml-4.5.0\r\n",
      "Successfully installed lxml-4.6.2 multitasking-0.0.9 yfinance-0.1.55\r\n",
      "\u001b[33mWARNING: You are using pip version 20.3.1; however, version 20.3.3 is available.\r\n",
      "You should consider upgrading via the '/opt/conda/bin/python3.7 -m pip install --upgrade pip' command.\u001b[0m\r\n"
     ]
    }
   ],
   "source": [
    "!pip install yfinance"
   ]
  },
  {
   "cell_type": "markdown",
   "metadata": {
    "papermill": {
     "duration": 0.027654,
     "end_time": "2021-01-11T05:09:01.817832",
     "exception": false,
     "start_time": "2021-01-11T05:09:01.790178",
     "status": "completed"
    },
    "tags": []
   },
   "source": [
    "### Import all necessary libraries"
   ]
  },
  {
   "cell_type": "code",
   "execution_count": 2,
   "metadata": {
    "execution": {
     "iopub.execute_input": "2021-01-11T05:09:01.886673Z",
     "iopub.status.busy": "2021-01-11T05:09:01.883645Z",
     "iopub.status.idle": "2021-01-11T05:09:01.889513Z",
     "shell.execute_reply": "2021-01-11T05:09:01.888928Z"
    },
    "papermill": {
     "duration": 0.043321,
     "end_time": "2021-01-11T05:09:01.889620",
     "exception": false,
     "start_time": "2021-01-11T05:09:01.846299",
     "status": "completed"
    },
    "tags": []
   },
   "outputs": [],
   "source": [
    "import warnings\n",
    "import pandas as pd\n",
    "import numpy as np\n",
    "import matplotlib.pyplot as plt\n",
    "from datetime import datetime\n",
    "from matplotlib.lines import Line2D\n",
    "from matplotlib.patches import Rectangle\n",
    "from matplotlib.dates import num2date, date2num\n",
    "warnings.simplefilter(\"ignore\")\n",
    "%matplotlib inline"
   ]
  },
  {
   "cell_type": "markdown",
   "metadata": {
    "papermill": {
     "duration": 0.027905,
     "end_time": "2021-01-11T05:09:01.945419",
     "exception": false,
     "start_time": "2021-01-11T05:09:01.917514",
     "status": "completed"
    },
    "tags": []
   },
   "source": [
    "### Get stock data from Yahoo Finance\n",
    "I have chosen Bajaj Finance as an example. It is a high beta stocks and thus provides opportunites for short term (less than 365 days) trading.\n",
    "Each entry represents 1 day staring from 1 Jan 2011"
   ]
  },
  {
   "cell_type": "code",
   "execution_count": 3,
   "metadata": {
    "execution": {
     "iopub.execute_input": "2021-01-11T05:09:02.006766Z",
     "iopub.status.busy": "2021-01-11T05:09:02.006110Z",
     "iopub.status.idle": "2021-01-11T05:09:03.892125Z",
     "shell.execute_reply": "2021-01-11T05:09:03.891530Z"
    },
    "papermill": {
     "duration": 1.919152,
     "end_time": "2021-01-11T05:09:03.892242",
     "exception": false,
     "start_time": "2021-01-11T05:09:01.973090",
     "status": "completed"
    },
    "tags": []
   },
   "outputs": [],
   "source": [
    "import yfinance as yf\n",
    "ticker='BAJFINANCE.NS'\n",
    "tickerData = yf.Ticker(ticker)\n",
    "df = tickerData.history(period='1d', start='2011-1-1')"
   ]
  },
  {
   "cell_type": "markdown",
   "metadata": {
    "papermill": {
     "duration": 0.027997,
     "end_time": "2021-01-11T05:09:03.948712",
     "exception": false,
     "start_time": "2021-01-11T05:09:03.920715",
     "status": "completed"
    },
    "tags": []
   },
   "source": [
    "Below is the function to complete RSI usinf EMA and SMA."
   ]
  },
  {
   "cell_type": "code",
   "execution_count": 4,
   "metadata": {
    "execution": {
     "iopub.execute_input": "2021-01-11T05:09:04.027098Z",
     "iopub.status.busy": "2021-01-11T05:09:04.026398Z",
     "iopub.status.idle": "2021-01-11T05:09:04.036981Z",
     "shell.execute_reply": "2021-01-11T05:09:04.037497Z"
    },
    "papermill": {
     "duration": 0.059653,
     "end_time": "2021-01-11T05:09:04.037664",
     "exception": false,
     "start_time": "2021-01-11T05:09:03.978011",
     "status": "completed"
    },
    "tags": []
   },
   "outputs": [],
   "source": [
    "def rsi(df, window=14):\n",
    "    close = df['Close']\n",
    "    \n",
    "    # Price increase or decrease over previous day\n",
    "    dif = close.diff()\n",
    "    dif = dif[1:] \n",
    "    \n",
    "    # pos_m identifies stock price going up\n",
    "    # neg_m udentifies stock price going down\n",
    "    pos_m, neg_m = dif.copy(), dif.copy()\n",
    "    pos_m[pos_m < 0] = 0\n",
    "    neg_m[neg_m > 0] = 0\n",
    "    \n",
    "    # Positive Rolling Mean Exponential\n",
    "    prme = pos_m.ewm(span=window).mean()\n",
    "    # Negative Rolling Mean Exponential\n",
    "    nrme = neg_m.abs().ewm(span=window).mean()\n",
    "    \n",
    "    # Ratio of magnitude of up move to down move\n",
    "    RSE = prme / nrme\n",
    "    RSIE = 100.0 - (100.0 / (1.0 + RSE))\n",
    "    df['rsie'] = RSIE\n",
    "    \n",
    "    # Positive Rolling Mean Simple\n",
    "    prms = pos_m.rolling(window).mean()\n",
    "    # Negative Rolling Mean Simple\n",
    "    nrms = neg_m.abs().rolling(window).mean()\n",
    "\n",
    "    RSS = prms / nrms\n",
    "    RSIS = 100.0 - (100.0 / (1.0 + RSS))\n",
    "    \n",
    "    df['rsis'] = RSIS\n",
    "    return df\n",
    "df = rsi(df)"
   ]
  },
  {
   "cell_type": "code",
   "execution_count": 5,
   "metadata": {
    "execution": {
     "iopub.execute_input": "2021-01-11T05:09:04.135289Z",
     "iopub.status.busy": "2021-01-11T05:09:04.124837Z",
     "iopub.status.idle": "2021-01-11T05:09:04.184923Z",
     "shell.execute_reply": "2021-01-11T05:09:04.184186Z"
    },
    "papermill": {
     "duration": 0.118871,
     "end_time": "2021-01-11T05:09:04.185038",
     "exception": false,
     "start_time": "2021-01-11T05:09:04.066167",
     "status": "completed"
    },
    "tags": []
   },
   "outputs": [],
   "source": [
    "df['Date'] = df.index\n",
    "df['DateY'] = df['Date'].apply(lambda x: date2num(datetime.strptime(str(x), \"%Y-%m-%d %H:%M:%S\")))"
   ]
  },
  {
   "cell_type": "code",
   "execution_count": 6,
   "metadata": {
    "execution": {
     "iopub.execute_input": "2021-01-11T05:09:04.255343Z",
     "iopub.status.busy": "2021-01-11T05:09:04.254635Z",
     "iopub.status.idle": "2021-01-11T05:09:04.258139Z",
     "shell.execute_reply": "2021-01-11T05:09:04.257482Z"
    },
    "papermill": {
     "duration": 0.044866,
     "end_time": "2021-01-11T05:09:04.258252",
     "exception": false,
     "start_time": "2021-01-11T05:09:04.213386",
     "status": "completed"
    },
    "tags": []
   },
   "outputs": [],
   "source": [
    "def candlestick(ax, quotes, width=0.2, colorup='g', colordown='r', alpha=1.0):\n",
    "    OFFSET = width / 2.0\n",
    "\n",
    "    lines = []\n",
    "    patches = []\n",
    "    for q in quotes:\n",
    "        t, open, close, high, low = q[:5]\n",
    "\n",
    "        if close >= open:\n",
    "            color = colorup\n",
    "            lower = open\n",
    "            height = close - open\n",
    "        else:\n",
    "            color = colordown\n",
    "            lower = close\n",
    "            height = open - close\n",
    "\n",
    "        vline = Line2D(\n",
    "            xdata=(t, t), ydata=(low, high),\n",
    "            color=color,\n",
    "            linewidth=0.5,\n",
    "            antialiased=True,\n",
    "        )\n",
    "\n",
    "        rect = Rectangle(\n",
    "            xy=(t - OFFSET, lower),\n",
    "            width=width,\n",
    "            height=height,\n",
    "            facecolor=color,\n",
    "            edgecolor=color,\n",
    "        )\n",
    "        rect.set_alpha(alpha)\n",
    "\n",
    "        lines.append(vline)\n",
    "        patches.append(rect)\n",
    "        ax.add_line(vline)\n",
    "        ax.add_patch(rect)\n",
    "    ax.autoscale_view()\n",
    "\n",
    "    return lines, patches"
   ]
  },
  {
   "cell_type": "markdown",
   "metadata": {
    "papermill": {
     "duration": 0.028238,
     "end_time": "2021-01-11T05:09:04.314926",
     "exception": false,
     "start_time": "2021-01-11T05:09:04.286688",
     "status": "completed"
    },
    "tags": []
   },
   "source": [
    "Here I have plotted RSI computed using Exponential Moving Average. We can also use Simple Moving Average instead."
   ]
  },
  {
   "cell_type": "code",
   "execution_count": 7,
   "metadata": {
    "execution": {
     "iopub.execute_input": "2021-01-11T05:09:04.385056Z",
     "iopub.status.busy": "2021-01-11T05:09:04.384348Z",
     "iopub.status.idle": "2021-01-11T05:09:05.228223Z",
     "shell.execute_reply": "2021-01-11T05:09:05.227654Z"
    },
    "papermill": {
     "duration": 0.885046,
     "end_time": "2021-01-11T05:09:05.228329",
     "exception": false,
     "start_time": "2021-01-11T05:09:04.343283",
     "status": "completed"
    },
    "tags": []
   },
   "outputs": [
    {
     "data": {
      "image/png": "[encoded data removed]",
      "text/plain": [
       "<Figure size 1440x720 with 2 Axes>"
      ]
     },
     "metadata": {
      "needs_background": "light"
     },
     "output_type": "display_data"
    }
   ],
   "source": [
    "def plot_rsi(df, start_date='2020-05-01', end_date='2020-09-30'):\n",
    "    plt.rcParams['figure.figsize'] = [20, 10]\n",
    "    fig = plt.figure()\n",
    "    df = df[(df.index>=start_date) & (df.index<=end_date)]\n",
    "    ax1 = plt.subplot2grid((5,4), (0,0), rowspan=4, colspan=4)\n",
    "    \n",
    "    candlestick(ax1, np.array(df[['DateY', 'Open', 'Close', 'High', 'Low']]))\n",
    "    plt.title(\"BAJAJ FINANCE LTD: Price/RSI chart\")\n",
    "    plt.ylabel(\"Price\")\n",
    "    ax1.grid(True)\n",
    "    \n",
    "    ax2 = plt.subplot2grid((5,4), (4,0), rowspan=1, colspan=4, sharex=ax1)\n",
    "    ax2.fill_between(num2date(df['DateY']), 30, 70, color = '#eeeee4')\n",
    "    ax2.plot(num2date(df['DateY']), df['rsie'])\n",
    "    plt.ylabel(\"RSI\")\n",
    "    ax2.grid(True)\n",
    "    \n",
    "    plt.setp(ax1.get_xticklabels(), visible=False)\n",
    "    plt.subplots_adjust(hspace=0)\n",
    "\n",
    "plot_rsi(df)"
   ]
  },
  {
   "cell_type": "markdown",
   "metadata": {
    "papermill": {
     "duration": 0.029743,
     "end_time": "2021-01-11T05:09:05.288541",
     "exception": false,
     "start_time": "2021-01-11T05:09:05.258798",
     "status": "completed"
    },
    "tags": []
   },
   "source": [
    "Thanks for reading!"
   ]
  }
 ],
 "metadata": {
  "kernelspec": {
   "display_name": "Python 3",
   "language": "python",
   "name": "python3"
  },
  "language_info": {
   "codemirror_mode": {
    "name": "ipython",
    "version": 3
   },
   "file_extension": ".py",
   "mimetype": "text/x-python",
   "name": "python",
   "nbconvert_exporter": "python",
   "pygments_lexer": "ipython3",
   "version": "3.7.6"
  },
  "papermill": {
   "duration": 41.488998,
   "end_time": "2021-01-11T05:09:05.427638",
   "environment_variables": {},
   "exception": null,
   "input_path": "__notebook__.ipynb",
   "output_path": "__notebook__.ipynb",
   "parameters": {},
   "start_time": "2021-01-11T05:08:23.938640",
   "version": "2.1.0"
  }
 },
 "nbformat": 4,
 "nbformat_minor": 4
}
